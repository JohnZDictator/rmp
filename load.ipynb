{
 "cells": [
  {
   "cell_type": "code",
   "execution_count": 45,
   "metadata": {},
   "outputs": [
    {
     "data": {
      "text/plain": [
       "True"
      ]
     },
     "execution_count": 45,
     "metadata": {},
     "output_type": "execute_result"
    }
   ],
   "source": [
    "import os\n",
    "import requests\n",
    "import json\n",
    "from dotenv import load_dotenv\n",
    "from pinecone import Pinecone, ServerlessSpec, PineconeApiException\n",
    "import google.generativeai as genai\n",
    "# from llama_index.llms.gemini import Gemini\n",
    "from llama_index.vector_stores.pinecone import PineconeVectorStore\n",
    "from llama_index.embeddings.gemini import GeminiEmbedding\n",
    "from llama_index.core import StorageContext, VectorStoreIndex, download_loader, Settings\n",
    "from bs4 import BeautifulSoup\n",
    "\n",
    "load_dotenv()"
   ]
  },
  {
   "cell_type": "code",
   "execution_count": 46,
   "metadata": {},
   "outputs": [],
   "source": [
    "# Function to load data based on input type (URL or JSON file)\n",
    "def load_data(source):\n",
    "    # Check if the input source is a URL\n",
    "    if source.startswith('http'):\n",
    "        # Scrape data from the web\n",
    "        response = requests.get(source)\n",
    "        soup = BeautifulSoup(response.text, 'html.parser')\n",
    "        # Implement scraping logic here to extract relevant data\n",
    "        # For simplicity, assuming we get a list of documents as plain text\n",
    "        documents = [{'content': p.get_text()} for p in soup.find_all('p')]\n",
    "    else:\n",
    "        # Load data from a JSON file\n",
    "        with open(source, 'r') as f:\n",
    "            data = json.load(f)\n",
    "        if isinstance(data, dict):\n",
    "            documents = [{'content': review['review']} for review in data.get('reviews', [])]\n",
    "        elif isinstance(data, list):\n",
    "            documents = [{'content': item.get('review', '')} for item in data]\n",
    "        else:\n",
    "            raise ValueError(\"Invalid JSON format.\")\n",
    "    return documents"
   ]
  },
  {
   "cell_type": "code",
   "execution_count": 52,
   "metadata": {},
   "outputs": [],
   "source": [
    "# Function to process data, create embeddings, and store them in Pinecone\n",
    "def process_and_store_data(documents, pinecone_index, genai):\n",
    "    # Process and store data\n",
    "    processed_data = []\n",
    "    embed_model = genai\n",
    "\n",
    "    for doc in documents:\n",
    "        response = embed_model.embed_content(\n",
    "            model=\"models/text-embedding-004\",\n",
    "            content=doc['content']\n",
    "        )\n",
    "        embedding = response['embedding']\n",
    "        processed_data.append({\n",
    "            \"values\": embedding,\n",
    "            \"id\": doc.get('id', 'default_id'),\n",
    "            \"metadata\": {\n",
    "                \"content\": doc['content']\n",
    "            }\n",
    "        })\n",
    "    \n",
    "    # Insert the embeddings into the Pinecone index\n",
    "    upsert_response = pinecone_index.upsert(\n",
    "        vectors=processed_data,\n",
    "        namespace=\"ns1\",\n",
    "    )\n",
    "    print(f\"Upserted count: {upsert_response['upserted_count']}\")\n",
    "    \n",
    "    return pinecone_index"
   ]
  },
  {
   "cell_type": "code",
   "execution_count": 54,
   "metadata": {},
   "outputs": [],
   "source": [
    "# Function to query the index and get a response from Gemini\n",
    "def query_index(index, query, genai):\n",
    "    query_embedding = genai.embed_content(\n",
    "        model=\"models/text-embedding-004\",\n",
    "        content=query\n",
    "    )['embedding']\n",
    "    \n",
    "    results = index.query(\n",
    "        top_k=5,  # Number of top results to return\n",
    "        vector=query_embedding,\n",
    "        namespace=\"ns1\"\n",
    "    )\n",
    "    return results"
   ]
  },
  {
   "cell_type": "code",
   "execution_count": 49,
   "metadata": {},
   "outputs": [],
   "source": [
    "# Initialize Pinecone\n",
    "pc = Pinecone(api_key=os.getenv(\"PINECONE_API_KEY\"))\n",
    "index_name = \"rag\"\n",
    "dimension = 768\n",
    "\n",
    "existing_indexes = pc.list_indexes()\n",
    "index_exists = any(index['name'] == index_name for index in existing_indexes)\n",
    "if not index_exists:\n",
    "    try:\n",
    "        # Create a Pinecone index\n",
    "        pc.create_index(\n",
    "            name=index_name,\n",
    "            dimension=dimension,\n",
    "            metric=\"cosine\",\n",
    "            spec=ServerlessSpec(cloud=\"aws\", region=\"us-east-1\"),\n",
    "        )\n",
    "        print(f\"Index '{index_name}' created.\")\n",
    "    except PineconeApiException as e:\n",
    "        if e.status == 409:\n",
    "            print(f\"Index '{index_name}' already exists.\")\n",
    "        else:\n",
    "            raise\n",
    "\n",
    "pinecone_index = pc.Index(index_name)\n"
   ]
  },
  {
   "cell_type": "code",
   "execution_count": 50,
   "metadata": {},
   "outputs": [],
   "source": [
    "genai.configure(api_key=os.getenv(\"GEMINI_API_KEY\"))"
   ]
  },
  {
   "cell_type": "code",
   "execution_count": 53,
   "metadata": {},
   "outputs": [
    {
     "name": "stdout",
     "output_type": "stream",
     "text": [
      "Upserted count: 20\n"
     ]
    },
    {
     "ename": "AttributeError",
     "evalue": "'Index' object has no attribute 'as_query_engine'",
     "output_type": "error",
     "traceback": [
      "\u001b[0;31m---------------------------------------------------------------------------\u001b[0m",
      "\u001b[0;31mAttributeError\u001b[0m                            Traceback (most recent call last)",
      "Cell \u001b[0;32mIn[53], line 9\u001b[0m\n\u001b[1;32m      7\u001b[0m \u001b[38;5;66;03m# Query the index\u001b[39;00m\n\u001b[1;32m      8\u001b[0m query \u001b[38;5;241m=\u001b[39m \u001b[38;5;124m\"\u001b[39m\u001b[38;5;124mWhat does the author think about LlamaIndex?\u001b[39m\u001b[38;5;124m\"\u001b[39m\n\u001b[0;32m----> 9\u001b[0m response \u001b[38;5;241m=\u001b[39m \u001b[43mquery_index\u001b[49m\u001b[43m(\u001b[49m\u001b[43mindex\u001b[49m\u001b[43m,\u001b[49m\u001b[43m \u001b[49m\u001b[43mquery\u001b[49m\u001b[43m)\u001b[49m\n",
      "Cell \u001b[0;32mIn[48], line 4\u001b[0m, in \u001b[0;36mquery_index\u001b[0;34m(index, query)\u001b[0m\n\u001b[1;32m      2\u001b[0m \u001b[38;5;28;01mdef\u001b[39;00m \u001b[38;5;21mquery_index\u001b[39m(index, query):\n\u001b[1;32m      3\u001b[0m     \u001b[38;5;66;03m# Convert the index into a query engine\u001b[39;00m\n\u001b[0;32m----> 4\u001b[0m     query_engine \u001b[38;5;241m=\u001b[39m \u001b[43mindex\u001b[49m\u001b[38;5;241;43m.\u001b[39;49m\u001b[43mas_query_engine\u001b[49m()\n\u001b[1;32m      6\u001b[0m     \u001b[38;5;66;03m# Query the index and get a response from the Gemini model\u001b[39;00m\n\u001b[1;32m      7\u001b[0m     gemini_response \u001b[38;5;241m=\u001b[39m query_engine\u001b[38;5;241m.\u001b[39mquery(query)\n",
      "\u001b[0;31mAttributeError\u001b[0m: 'Index' object has no attribute 'as_query_engine'"
     ]
    }
   ],
   "source": [
    "input_source = \"reviews.json\"\n",
    "documents = load_data(input_source)\n",
    "\n",
    "# Process the data and store it in Pinecone\n",
    "index = process_and_store_data(documents, pinecone_index, genai)\n",
    "\n",
    "# Query the index\n",
    "query = \"What does the author think about LlamaIndex?\"\n",
    "response = query_index(index, query, genai)"
   ]
  }
 ],
 "metadata": {
  "kernelspec": {
   "display_name": "rag",
   "language": "python",
   "name": "python3"
  },
  "language_info": {
   "codemirror_mode": {
    "name": "ipython",
    "version": 3
   },
   "file_extension": ".py",
   "mimetype": "text/x-python",
   "name": "python",
   "nbconvert_exporter": "python",
   "pygments_lexer": "ipython3",
   "version": "3.10.14"
  }
 },
 "nbformat": 4,
 "nbformat_minor": 2
}
